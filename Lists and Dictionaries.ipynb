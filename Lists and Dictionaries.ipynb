{
  "metadata": {
    "kernelspec": {
      "name": "python",
      "display_name": "Python (Pyodide)",
      "language": "python"
    },
    "language_info": {
      "codemirror_mode": {
        "name": "python",
        "version": 3
      },
      "file_extension": ".py",
      "mimetype": "text/x-python",
      "name": "python",
      "nbconvert_exporter": "python",
      "pygments_lexer": "ipython3",
      "version": "3.8"
    }
  },
  "nbformat_minor": 4,
  "nbformat": 4,
  "cells": [
    {
      "cell_type": "code",
      "source": "# Working with cells\n# Create a Random List with their types and lengths\nimport random\n\n# Generate 3 lists of 5 random number between 1 and 10000\nrandom_list_0 = [random.random() for _ in range(5)]\nrandom_list_1 = [random.randint(0,10000) for _ in range(5)]\nrandom_list_2 = [random.uniform(0,10000) for _ in range (5)]\nprint(random_list_0)\nprint(\n    \"random_list_0 type:\", type(random_list_0),\n    \"random_list_0 length:\", len(random_list_0)\n)\nprint(random_list_1)\nprint(\n    \"random_list_1 type:\", type(random_list_1),\n    \"random_list_1 length:\", len(random_list_1)\n)\nprint(random_list_2)\nprint(\n    \"random_list_2 type:\", type(random_list_2),\n    \"random_list_2 length:\", len(random_list_2)\n)",
      "metadata": {
        "trusted": true
      },
      "outputs": [
        {
          "name": "stdout",
          "text": "[0.8710555229292686, 0.22755827370187365, 0.06466600114053911, 0.3541111245970052, 0.01819155523347482]\nrandom_list_0 type: <class 'list'> random_list_0 length: 5\n[8001, 2792, 7693, 1847, 4687]\nrandom_list_1 type: <class 'list'> random_list_1 length: 5\n[7798.107601298241, 6920.349693778209, 3518.607605185707, 8081.413129921536, 2845.1132551334235]\nrandom_list_2 type: <class 'list'> random_list_2 length: 5\n",
          "output_type": "stream"
        }
      ],
      "execution_count": 1
    },
    {
      "cell_type": "code",
      "source": "# Declaring a variable\nx = random_list_0[0] / random_list_0[2]\nprint(x)",
      "metadata": {
        "trusted": true
      },
      "outputs": [
        {
          "name": "stdout",
          "text": "13.470069396067913\n",
          "output_type": "stream"
        }
      ],
      "execution_count": 2
    },
    {
      "cell_type": "code",
      "source": "# Append x in list\nrandom_list_0.append(x)\nprint(random_list_0)\nprint(\n    \"random_list_0 type:\", type(random_list_0),\n    \"random_list_0 length:\", len(random_list_0)\n)",
      "metadata": {
        "trusted": true
      },
      "outputs": [
        {
          "name": "stdout",
          "text": "[0.8710555229292686, 0.22755827370187365, 0.06466600114053911, 0.3541111245970052, 0.01819155523347482, 13.470069396067913]\nrandom_list_0 type: <class 'list'> random_list_0 length: 6\n",
          "output_type": "stream"
        }
      ],
      "execution_count": 3
    },
    {
      "cell_type": "code",
      "source": "# Declaring variables and appending for other lists\ny = random_list_1[0] / random_list_1 [1]\nrandom_list_1.append(y)\nz = random_list_2[0] / random_list_2 [1]\nrandom_list_2.append(z)\nprint(random_list_1)\nprint(\n    \"random_list_1 type:\", type(random_list_1),\n    \"random_list_1 length:\", len(random_list_1)\n)\nprint(random_list_2)\nprint(\n    \"random_list_2 type:\", type(random_list_2),\n    \"random_list_2 length:\", len(random_list_2)\n)",
      "metadata": {
        "trusted": true
      },
      "outputs": [
        {
          "name": "stdout",
          "text": "[8001, 2792, 7693, 1847, 4687, 2.8656876790830945]\nrandom_list_1 type: <class 'list'> random_list_1 length: 6\n[7798.107601298241, 6920.349693778209, 3518.607605185707, 8081.413129921536, 2845.1132551334235, 1.126837218689857]\nrandom_list_2 type: <class 'list'> random_list_2 length: 6\n",
          "output_type": "stream"
        }
      ],
      "execution_count": 4
    },
    {
      "cell_type": "code",
      "source": "# creating a list of lists\nmaster_random_list = [ random_list_0, random_list_1, random_list_2]\nprint (master_random_list)\nprint (\n\"master_random_list type:\", type(master_random_list),\n\"master_random_list len:\", len(master_random_list)\n)",
      "metadata": {
        "trusted": true
      },
      "outputs": [
        {
          "name": "stdout",
          "text": "[[0.8710555229292686, 0.22755827370187365, 0.06466600114053911, 0.3541111245970052, 0.01819155523347482, 13.470069396067913], [8001, 2792, 7693, 1847, 4687, 2.8656876790830945], [7798.107601298241, 6920.349693778209, 3518.607605185707, 8081.413129921536, 2845.1132551334235, 1.126837218689857]]\nmaster_random_list type: <class 'list'> master_random_list len: 3\n",
          "output_type": "stream"
        }
      ],
      "execution_count": 5
    },
    {
      "cell_type": "code",
      "source": "# creating a for loop in\nfor a in master_random_list: #a is like assigning an aribitrary variable in the exisiting list\n    x = []\n    x = a[1] / a[2]\n    a.append(x)\nprint (master_random_list)\nprint (\n\"master_random_list type:\", type(master_random_list),\n\"master_random_list len:\", len(master_random_list)\n)",
      "metadata": {
        "trusted": true
      },
      "outputs": [
        {
          "name": "stdout",
          "text": "[[0.8710555229292686, 0.22755827370187365, 0.06466600114053911, 0.3541111245970052, 0.01819155523347482, 13.470069396067913, 3.5189785928979824], [8001, 2792, 7693, 1847, 4687, 2.8656876790830945, 0.36292733653971143], [7798.107601298241, 6920.349693778209, 3518.607605185707, 8081.413129921536, 2845.1132551334235, 1.126837218689857, 1.9667864309674745]]\nmaster_random_list type: <class 'list'> master_random_list len: 3\n",
          "output_type": "stream"
        }
      ],
      "execution_count": 6
    },
    {
      "cell_type": "code",
      "source": "#Working with Dictionaries\nimport random\nimport string\n\ndef random_string(length=5):\n    letters = string.ascii_lowercase\n    return ''.join(random.choice(letters) for _ in range(length))\n\n# Generate a dictionary with five random string key and five random float value\n\nrandom_dict_0 = {random_string(): random.uniform(0, 10000) for _ in range(5)}\n\nprint(random_dict_0)",
      "metadata": {
        "trusted": true,
        "tags": [],
        "editable": true,
        "slideshow": {
          "slide_type": ""
        }
      },
      "outputs": [
        {
          "name": "stdout",
          "text": "{'rjmte': 5705.373708716759, 'qtlgb': 1540.462138193872, 'upynz': 881.6698006070455, 'relmj': 1896.9096178840039, 'jglcm': 4922.6266499157255}\n",
          "output_type": "stream"
        }
      ],
      "execution_count": 14
    },
    {
      "cell_type": "code",
      "source": "# Create 4 other random dictionaries and finally a list of all the dicts\nrandom_dict_1 = {random_string(): random.uniform(0, 10000) for _ in range(5)}\nrandom_dict_2 = {random_string(): random.uniform(0, 10000) for _ in range(5)}\nrandom_dict_3 = {random_string(): random.uniform(0, 10000) for _ in range(5)}\nrandom_dict_4 = {random_string(): random.uniform(0, 10000) for _ in range(5)}\nmaster_list =  [random_dict_0, random_dict_1, random_dict_2, random_dict_3, random_dict_4]\nprint(master_list)",
      "metadata": {
        "trusted": true
      },
      "outputs": [
        {
          "name": "stdout",
          "text": "[{'btgij': 4352.380390256033, 'eroip': 649.7658442932386, 'rqmrs': 8611.263954406624, 'tsxly': 8398.015579099945, 'bnben': 7081.919676480827}, {'jwcaj': 2150.9241418436995, 'hehkv': 7176.973852343761, 'yoivm': 9495.48878130801, 'zxoqd': 6935.4543843670535, 'niblj': 5149.56408015378}, {'qkhoo': 5049.490623110227, 'dcipn': 9389.531442023117, 'npstg': 5937.4279355173485, 'fxqpg': 8.09170781606694, 'sfyhw': 8532.967229335934}, {'wfwrq': 9492.379967083572, 'phwdh': 3189.641574505394, 'vgmik': 6238.275036916679, 'aujrl': 3402.942241276322, 'unwnx': 321.4294201416157}, {'verig': 6274.272298996278, 'tqkvn': 4377.688084988908, 'qtizz': 5385.039860404075, 'bboao': 2328.023486324283, 'cjjio': 7301.389960737716}]\n",
          "output_type": "stream"
        }
      ],
      "execution_count": 8
    },
    {
      "cell_type": "code",
      "source": "# Using a for loop to create a new variable using existing ones\n# define a new JSON\njson = [ {'a': 1, 'b' : 2, 'c' : 3, 'd' : 4} , \n        {'a' : 10, 'b' : 20, 'c':30 , 'd':40}, \n        {'a':100, 'b':200, 'c':300, 'd':400,},\n        {'a':50,'b':100,'c':150,'d':200}]\nprint(\"json type :\", type(json))\nprint(\"json length :\", len(json))\nprint(json)\nfor x in json: #adding new key value pair for each list\n    x[\"k\"] = x[\"a\"] / x[\"d\"]\nprint(\"json type :\", type(json))\nprint(\"json length :\", len(json))\nprint(json)",
      "metadata": {
        "trusted": true
      },
      "outputs": [
        {
          "name": "stdout",
          "text": "json type : <class 'list'>\njson length : 4\n[{'a': 1, 'b': 2, 'c': 3, 'd': 4}, {'a': 10, 'b': 20, 'c': 30, 'd': 40}, {'a': 100, 'b': 200, 'c': 300, 'd': 400}, {'a': 50, 'b': 100, 'c': 150, 'd': 200}]\njson type : <class 'list'>\njson length : 4\n[{'a': 1, 'b': 2, 'c': 3, 'd': 4, 'k': 0.25}, {'a': 10, 'b': 20, 'c': 30, 'd': 40, 'k': 0.25}, {'a': 100, 'b': 200, 'c': 300, 'd': 400, 'k': 0.25}, {'a': 50, 'b': 100, 'c': 150, 'd': 200, 'k': 0.25}]\n",
          "output_type": "stream"
        }
      ],
      "execution_count": 9
    },
    {
      "cell_type": "code",
      "source": "# find mean of a in json\n# we need a new list \ny =[]\nfor x in json:\n    y.append(x[\"a\"])\nprint(y)\nmean_a = sum(y) / len(y)\nprint(\"mean_a : \", mean_a,\n     \"mean_a type : \", type(mean_a))",
      "metadata": {
        "trusted": true,
        "tags": [],
        "editable": true,
        "slideshow": {
          "slide_type": ""
        }
      },
      "outputs": [
        {
          "name": "stdout",
          "text": "[1, 10, 100, 50]\nmean_a :  40.25 mean_a type :  <class 'float'>\n",
          "output_type": "stream"
        }
      ],
      "execution_count": 10
    },
    {
      "cell_type": "code",
      "source": "#dict of lists\n# assigning a new dict\ndict_of_lists = {\n    \"a\" : [1,10,100,50],\n    \"b\" : [2,20,200,100],\n    \"c\" : [3,30,300,150],\n    \"d\" : [4,40,400,200]\n}\nprint(\"dict_of_lists : \" , dict_of_lists)\nprint(\"dict_of_lists type:\", type(dict_of_lists))\n#finding mean\nmean_a = sum(dict_of_lists[\"a\"]) / len(dict_of_lists[\"a\"])\nprint(\"mean_a :\", mean_a)\nprint(\"mean_a type:\", type(mean_a))",
      "metadata": {
        "trusted": true
      },
      "outputs": [
        {
          "name": "stdout",
          "text": "dict_of_lists :  {'a': [1, 10, 100, 50], 'b': [2, 20, 200, 100], 'c': [3, 30, 300, 150], 'd': [4, 40, 400, 200]}\ndict_of_lists type: <class 'dict'>\nmean_a : 40.25\nmean_a type: <class 'float'>\n",
          "output_type": "stream"
        }
      ],
      "execution_count": 11
    },
    {
      "cell_type": "code",
      "source": "# Row wise operation become difficult\na = dict_of_lists[\"a\"]\nd = dict_of_lists[\"d\"]\nk = []\nfor aa,dd in zip(a,d): #special 'zip' function to use 2 variables of dict\n    kk = aa/dd\n    k.append(kk)\nprint(k)\ndict_of_lists[\"k\"] = k  #assigning k to the dict_of_lists\nprint(dict_of_lists)",
      "metadata": {
        "trusted": true
      },
      "outputs": [
        {
          "name": "stdout",
          "text": "[0.25, 0.25, 0.25, 0.25]\n{'a': [1, 10, 100, 50], 'b': [2, 20, 200, 100], 'c': [3, 30, 300, 150], 'd': [4, 40, 400, 200], 'k': [0.25, 0.25, 0.25, 0.25]}\n",
          "output_type": "stream"
        }
      ],
      "execution_count": 15
    },
    {
      "cell_type": "code",
      "source": "",
      "metadata": {
        "trusted": true
      },
      "outputs": [],
      "execution_count": null
    }
  ]
}