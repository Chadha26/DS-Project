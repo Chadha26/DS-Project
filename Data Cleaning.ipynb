{
  "metadata": {
    "kernelspec": {
      "name": "python",
      "display_name": "Python (Pyodide)",
      "language": "python"
    },
    "language_info": {
      "codemirror_mode": {
        "name": "python",
        "version": 3
      },
      "file_extension": ".py",
      "mimetype": "text/x-python",
      "name": "python",
      "nbconvert_exporter": "python",
      "pygments_lexer": "ipython3",
      "version": "3.8"
    }
  },
  "nbformat_minor": 4,
  "nbformat": 4,
  "cells": [
    {
      "cell_type": "code",
      "source": "import pandas as pd\ndf1 = pd.read_csv(\"data/housing_dataset.csv\")\nprint(\"df1 shape:\", df1.shape)\nprint(\"df1 type:\", type(df1))\ndf1.head(10)\ndf1.info()",
      "metadata": {
        "trusted": true
      },
      "outputs": [
        {
          "name": "stdout",
          "text": "df1 shape: (186, 16)\ndf1 type: <class 'pandas.core.frame.DataFrame'>\n<class 'pandas.core.frame.DataFrame'>\nRangeIndex: 186 entries, 0 to 185\nData columns (total 16 columns):\n #   Column            Non-Null Count  Dtype  \n---  ------            --------------  -----  \n 0   link              186 non-null    object \n 1   name              184 non-null    object \n 2   price             184 non-null    object \n 3   locality          186 non-null    object \n 4   region            186 non-null    object \n 5   postal_code       186 non-null    int64  \n 6   address           186 non-null    object \n 7   latitude          186 non-null    float64\n 8   longitude         186 non-null    float64\n 9   images            2 non-null      object \n 10  description       186 non-null    object \n 11  bedrooms          183 non-null    object \n 12  bathrooms         186 non-null    int64  \n 13  floor_size_sq_ft  175 non-null    object \n 14  uniq_id           186 non-null    object \n 15  scraped_at        186 non-null    object \ndtypes: float64(2), int64(2), object(12)\nmemory usage: 14.6+ KB\n",
          "output_type": "stream"
        }
      ],
      "execution_count": 1
    },
    {
      "cell_type": "code",
      "source": "df1 = df1.drop('link', axis=1)\ndf1.head(10)",
      "metadata": {
        "trusted": true
      },
      "outputs": [
        {
          "execution_count": 2,
          "output_type": "execute_result",
          "data": {
            "text/plain": "                                          name       price    locality region  \\\n0         10125 Baffin Dr, San Diego, CA 92126    $816,480   San Diego     CA   \n1    78345 Terra Cotta Ct, La Quinta, CA 92253    $416,694   La Quinta     CA   \n2          469 Sandpiper St, Banning, CA 92220    $365,040     Banning     CA   \n3     18620 Hatteras St 257, Tarzana, CA 91356    $366,444     Tarzana     CA   \n4         2075 Mendocino St, Seaside, CA 93955    $896,416     Seaside     CA   \n5          6212 Gretchen Ct, Fontana, CA 92336    $863,704     Fontana     CA   \n6  5879 Sailing Hawk Ave, Santa Rosa, CA 95409  $1,439,471  Santa Rosa     CA   \n7              2563 Gayle Ln, Auburn, CA 95602    $408,100      Auburn     CA   \n8            5451 N State St, Fresno, CA 93722    $354,240      Fresno     CA   \n9       8801 Haveteur Way, San Diego, CA 92123    $835,596   San Diego     CA   \n\n   postal_code                address   latitude   longitude images  \\\n0        92126        10125 Baffin Dr  32.900981 -117.153876    NaN   \n1        92253   78345 Terra Cotta Ct  33.727888 -116.297511    NaN   \n2        92220       469 Sandpiper St  33.923569 -116.935236    NaN   \n3        91356  18620 Hatteras St 257  34.176364 -118.539319    NaN   \n4        93955      2075 Mendocino St  36.620651 -121.829274    NaN   \n5        92336       6212 Gretchen Ct  34.141112 -117.468321    NaN   \n6        95409  5879 Sailing Hawk Ave  38.466291 -122.634455    NaN   \n7        95602          2563 Gayle Ln  38.973151 -121.068109    NaN   \n8        93722        5451 N State St  36.816648 -119.887379    NaN   \n9        92123      8801 Haveteur Way  32.807714 -117.139024    NaN   \n\n                                         description bedrooms  bathrooms  \\\n0  This Single Family Residence is located at 101...        3          2   \n1  This Condominium is located at 78345 Terra Cot...        2          2   \n2  This Single Family Residence is located at 469...        2          2   \n3  This Condominium is located at 18620 Hatteras ...        2          2   \n4  This Single Family Residence is located at 207...        3          2   \n5  This Single Family Residence is located at 621...        4          2   \n6  This Single Family Residence is located at 587...        4          5   \n7  This Single Family Residence is located at 256...        3          3   \n8  This Single Family Residence is located at 545...        3          1   \n9  This Single Family Residence is located at 880...        4          2   \n\n  floor_size_sq_ft                               uniq_id           scraped_at  \n0            1,134  8b174963-ff1e-5783-bd6a-fdfa28999104  01/07/2022 18:13:41  \n1              912  9add4ef2-73df-5085-972a-70c81dd5b0ac  01/07/2022 18:13:41  \n2            1,471  aaab3409-c6c3-5bc3-897c-5b4425492532  01/07/2022 18:13:41  \n3              910  3f17b279-2a0f-5c56-9bb7-7c998f535953  01/07/2022 18:13:41  \n4            1,333  01a2f60e-496f-5886-a59d-103097ebb544  01/07/2022 18:13:42  \n5            2,921  6ee153d9-6438-5d62-ae58-b655eb873646  01/07/2022 18:13:42  \n6            3,704  daa159dd-27da-5301-a0ce-81a49b34c8c6  01/07/2022 18:13:42  \n7            2,263  54b766c5-c640-5491-8562-1033738c5b90  01/07/2022 18:13:42  \n8            1,269  e54e4bdb-3323-5524-85ec-fb6588406a4b  01/07/2022 18:13:42  \n9            1,344  acbc1177-ae8b-5b7f-8fce-0020daddef0b  01/07/2022 18:13:43  ",
            "text/html": "<div>\n<style scoped>\n    .dataframe tbody tr th:only-of-type {\n        vertical-align: middle;\n    }\n\n    .dataframe tbody tr th {\n        vertical-align: top;\n    }\n\n    .dataframe thead th {\n        text-align: right;\n    }\n</style>\n<table border=\"1\" class=\"dataframe\">\n  <thead>\n    <tr style=\"text-align: right;\">\n      <th></th>\n      <th>name</th>\n      <th>price</th>\n      <th>locality</th>\n      <th>region</th>\n      <th>postal_code</th>\n      <th>address</th>\n      <th>latitude</th>\n      <th>longitude</th>\n      <th>images</th>\n      <th>description</th>\n      <th>bedrooms</th>\n      <th>bathrooms</th>\n      <th>floor_size_sq_ft</th>\n      <th>uniq_id</th>\n      <th>scraped_at</th>\n    </tr>\n  </thead>\n  <tbody>\n    <tr>\n      <th>0</th>\n      <td>10125 Baffin Dr, San Diego, CA 92126</td>\n      <td>$816,480</td>\n      <td>San Diego</td>\n      <td>CA</td>\n      <td>92126</td>\n      <td>10125 Baffin Dr</td>\n      <td>32.900981</td>\n      <td>-117.153876</td>\n      <td>NaN</td>\n      <td>This Single Family Residence is located at 101...</td>\n      <td>3</td>\n      <td>2</td>\n      <td>1,134</td>\n      <td>8b174963-ff1e-5783-bd6a-fdfa28999104</td>\n      <td>01/07/2022 18:13:41</td>\n    </tr>\n    <tr>\n      <th>1</th>\n      <td>78345 Terra Cotta Ct, La Quinta, CA 92253</td>\n      <td>$416,694</td>\n      <td>La Quinta</td>\n      <td>CA</td>\n      <td>92253</td>\n      <td>78345 Terra Cotta Ct</td>\n      <td>33.727888</td>\n      <td>-116.297511</td>\n      <td>NaN</td>\n      <td>This Condominium is located at 78345 Terra Cot...</td>\n      <td>2</td>\n      <td>2</td>\n      <td>912</td>\n      <td>9add4ef2-73df-5085-972a-70c81dd5b0ac</td>\n      <td>01/07/2022 18:13:41</td>\n    </tr>\n    <tr>\n      <th>2</th>\n      <td>469 Sandpiper St, Banning, CA 92220</td>\n      <td>$365,040</td>\n      <td>Banning</td>\n      <td>CA</td>\n      <td>92220</td>\n      <td>469 Sandpiper St</td>\n      <td>33.923569</td>\n      <td>-116.935236</td>\n      <td>NaN</td>\n      <td>This Single Family Residence is located at 469...</td>\n      <td>2</td>\n      <td>2</td>\n      <td>1,471</td>\n      <td>aaab3409-c6c3-5bc3-897c-5b4425492532</td>\n      <td>01/07/2022 18:13:41</td>\n    </tr>\n    <tr>\n      <th>3</th>\n      <td>18620 Hatteras St 257, Tarzana, CA 91356</td>\n      <td>$366,444</td>\n      <td>Tarzana</td>\n      <td>CA</td>\n      <td>91356</td>\n      <td>18620 Hatteras St 257</td>\n      <td>34.176364</td>\n      <td>-118.539319</td>\n      <td>NaN</td>\n      <td>This Condominium is located at 18620 Hatteras ...</td>\n      <td>2</td>\n      <td>2</td>\n      <td>910</td>\n      <td>3f17b279-2a0f-5c56-9bb7-7c998f535953</td>\n      <td>01/07/2022 18:13:41</td>\n    </tr>\n    <tr>\n      <th>4</th>\n      <td>2075 Mendocino St, Seaside, CA 93955</td>\n      <td>$896,416</td>\n      <td>Seaside</td>\n      <td>CA</td>\n      <td>93955</td>\n      <td>2075 Mendocino St</td>\n      <td>36.620651</td>\n      <td>-121.829274</td>\n      <td>NaN</td>\n      <td>This Single Family Residence is located at 207...</td>\n      <td>3</td>\n      <td>2</td>\n      <td>1,333</td>\n      <td>01a2f60e-496f-5886-a59d-103097ebb544</td>\n      <td>01/07/2022 18:13:42</td>\n    </tr>\n    <tr>\n      <th>5</th>\n      <td>6212 Gretchen Ct, Fontana, CA 92336</td>\n      <td>$863,704</td>\n      <td>Fontana</td>\n      <td>CA</td>\n      <td>92336</td>\n      <td>6212 Gretchen Ct</td>\n      <td>34.141112</td>\n      <td>-117.468321</td>\n      <td>NaN</td>\n      <td>This Single Family Residence is located at 621...</td>\n      <td>4</td>\n      <td>2</td>\n      <td>2,921</td>\n      <td>6ee153d9-6438-5d62-ae58-b655eb873646</td>\n      <td>01/07/2022 18:13:42</td>\n    </tr>\n    <tr>\n      <th>6</th>\n      <td>5879 Sailing Hawk Ave, Santa Rosa, CA 95409</td>\n      <td>$1,439,471</td>\n      <td>Santa Rosa</td>\n      <td>CA</td>\n      <td>95409</td>\n      <td>5879 Sailing Hawk Ave</td>\n      <td>38.466291</td>\n      <td>-122.634455</td>\n      <td>NaN</td>\n      <td>This Single Family Residence is located at 587...</td>\n      <td>4</td>\n      <td>5</td>\n      <td>3,704</td>\n      <td>daa159dd-27da-5301-a0ce-81a49b34c8c6</td>\n      <td>01/07/2022 18:13:42</td>\n    </tr>\n    <tr>\n      <th>7</th>\n      <td>2563 Gayle Ln, Auburn, CA 95602</td>\n      <td>$408,100</td>\n      <td>Auburn</td>\n      <td>CA</td>\n      <td>95602</td>\n      <td>2563 Gayle Ln</td>\n      <td>38.973151</td>\n      <td>-121.068109</td>\n      <td>NaN</td>\n      <td>This Single Family Residence is located at 256...</td>\n      <td>3</td>\n      <td>3</td>\n      <td>2,263</td>\n      <td>54b766c5-c640-5491-8562-1033738c5b90</td>\n      <td>01/07/2022 18:13:42</td>\n    </tr>\n    <tr>\n      <th>8</th>\n      <td>5451 N State St, Fresno, CA 93722</td>\n      <td>$354,240</td>\n      <td>Fresno</td>\n      <td>CA</td>\n      <td>93722</td>\n      <td>5451 N State St</td>\n      <td>36.816648</td>\n      <td>-119.887379</td>\n      <td>NaN</td>\n      <td>This Single Family Residence is located at 545...</td>\n      <td>3</td>\n      <td>1</td>\n      <td>1,269</td>\n      <td>e54e4bdb-3323-5524-85ec-fb6588406a4b</td>\n      <td>01/07/2022 18:13:42</td>\n    </tr>\n    <tr>\n      <th>9</th>\n      <td>8801 Haveteur Way, San Diego, CA 92123</td>\n      <td>$835,596</td>\n      <td>San Diego</td>\n      <td>CA</td>\n      <td>92123</td>\n      <td>8801 Haveteur Way</td>\n      <td>32.807714</td>\n      <td>-117.139024</td>\n      <td>NaN</td>\n      <td>This Single Family Residence is located at 880...</td>\n      <td>4</td>\n      <td>2</td>\n      <td>1,344</td>\n      <td>acbc1177-ae8b-5b7f-8fce-0020daddef0b</td>\n      <td>01/07/2022 18:13:43</td>\n    </tr>\n  </tbody>\n</table>\n</div>"
          },
          "metadata": {}
        }
      ],
      "execution_count": 2
    },
    {
      "cell_type": "code",
      "source": "df1 = df1.drop('images', axis=1)\ndf1.info()",
      "metadata": {
        "trusted": true
      },
      "outputs": [
        {
          "name": "stdout",
          "text": "<class 'pandas.core.frame.DataFrame'>\nRangeIndex: 186 entries, 0 to 185\nData columns (total 14 columns):\n #   Column            Non-Null Count  Dtype  \n---  ------            --------------  -----  \n 0   name              184 non-null    object \n 1   price             184 non-null    object \n 2   locality          186 non-null    object \n 3   region            186 non-null    object \n 4   postal_code       186 non-null    int64  \n 5   address           186 non-null    object \n 6   latitude          186 non-null    float64\n 7   longitude         186 non-null    float64\n 8   description       186 non-null    object \n 9   bedrooms          183 non-null    object \n 10  bathrooms         186 non-null    int64  \n 11  floor_size_sq_ft  175 non-null    object \n 12  uniq_id           186 non-null    object \n 13  scraped_at        186 non-null    object \ndtypes: float64(2), int64(2), object(10)\nmemory usage: 13.1+ KB\n",
          "output_type": "stream"
        }
      ],
      "execution_count": 3
    },
    {
      "cell_type": "code",
      "source": "df1 = df1.dropna()\nprint(\"df1 type:\", type(df1))\nprint(\"df1 shape:\", df1.shape)\ndf1.head()",
      "metadata": {
        "trusted": true
      },
      "outputs": [
        {
          "name": "stdout",
          "text": "df1 type: <class 'pandas.core.frame.DataFrame'>\ndf1 shape: (172, 14)\n",
          "output_type": "stream"
        },
        {
          "execution_count": 4,
          "output_type": "execute_result",
          "data": {
            "text/plain": "                                        name     price   locality region  \\\n0       10125 Baffin Dr, San Diego, CA 92126  $816,480  San Diego     CA   \n1  78345 Terra Cotta Ct, La Quinta, CA 92253  $416,694  La Quinta     CA   \n2        469 Sandpiper St, Banning, CA 92220  $365,040    Banning     CA   \n3   18620 Hatteras St 257, Tarzana, CA 91356  $366,444    Tarzana     CA   \n4       2075 Mendocino St, Seaside, CA 93955  $896,416    Seaside     CA   \n\n   postal_code                address   latitude   longitude  \\\n0        92126        10125 Baffin Dr  32.900981 -117.153876   \n1        92253   78345 Terra Cotta Ct  33.727888 -116.297511   \n2        92220       469 Sandpiper St  33.923569 -116.935236   \n3        91356  18620 Hatteras St 257  34.176364 -118.539319   \n4        93955      2075 Mendocino St  36.620651 -121.829274   \n\n                                         description bedrooms  bathrooms  \\\n0  This Single Family Residence is located at 101...        3          2   \n1  This Condominium is located at 78345 Terra Cot...        2          2   \n2  This Single Family Residence is located at 469...        2          2   \n3  This Condominium is located at 18620 Hatteras ...        2          2   \n4  This Single Family Residence is located at 207...        3          2   \n\n  floor_size_sq_ft                               uniq_id           scraped_at  \n0            1,134  8b174963-ff1e-5783-bd6a-fdfa28999104  01/07/2022 18:13:41  \n1              912  9add4ef2-73df-5085-972a-70c81dd5b0ac  01/07/2022 18:13:41  \n2            1,471  aaab3409-c6c3-5bc3-897c-5b4425492532  01/07/2022 18:13:41  \n3              910  3f17b279-2a0f-5c56-9bb7-7c998f535953  01/07/2022 18:13:41  \n4            1,333  01a2f60e-496f-5886-a59d-103097ebb544  01/07/2022 18:13:42  ",
            "text/html": "<div>\n<style scoped>\n    .dataframe tbody tr th:only-of-type {\n        vertical-align: middle;\n    }\n\n    .dataframe tbody tr th {\n        vertical-align: top;\n    }\n\n    .dataframe thead th {\n        text-align: right;\n    }\n</style>\n<table border=\"1\" class=\"dataframe\">\n  <thead>\n    <tr style=\"text-align: right;\">\n      <th></th>\n      <th>name</th>\n      <th>price</th>\n      <th>locality</th>\n      <th>region</th>\n      <th>postal_code</th>\n      <th>address</th>\n      <th>latitude</th>\n      <th>longitude</th>\n      <th>description</th>\n      <th>bedrooms</th>\n      <th>bathrooms</th>\n      <th>floor_size_sq_ft</th>\n      <th>uniq_id</th>\n      <th>scraped_at</th>\n    </tr>\n  </thead>\n  <tbody>\n    <tr>\n      <th>0</th>\n      <td>10125 Baffin Dr, San Diego, CA 92126</td>\n      <td>$816,480</td>\n      <td>San Diego</td>\n      <td>CA</td>\n      <td>92126</td>\n      <td>10125 Baffin Dr</td>\n      <td>32.900981</td>\n      <td>-117.153876</td>\n      <td>This Single Family Residence is located at 101...</td>\n      <td>3</td>\n      <td>2</td>\n      <td>1,134</td>\n      <td>8b174963-ff1e-5783-bd6a-fdfa28999104</td>\n      <td>01/07/2022 18:13:41</td>\n    </tr>\n    <tr>\n      <th>1</th>\n      <td>78345 Terra Cotta Ct, La Quinta, CA 92253</td>\n      <td>$416,694</td>\n      <td>La Quinta</td>\n      <td>CA</td>\n      <td>92253</td>\n      <td>78345 Terra Cotta Ct</td>\n      <td>33.727888</td>\n      <td>-116.297511</td>\n      <td>This Condominium is located at 78345 Terra Cot...</td>\n      <td>2</td>\n      <td>2</td>\n      <td>912</td>\n      <td>9add4ef2-73df-5085-972a-70c81dd5b0ac</td>\n      <td>01/07/2022 18:13:41</td>\n    </tr>\n    <tr>\n      <th>2</th>\n      <td>469 Sandpiper St, Banning, CA 92220</td>\n      <td>$365,040</td>\n      <td>Banning</td>\n      <td>CA</td>\n      <td>92220</td>\n      <td>469 Sandpiper St</td>\n      <td>33.923569</td>\n      <td>-116.935236</td>\n      <td>This Single Family Residence is located at 469...</td>\n      <td>2</td>\n      <td>2</td>\n      <td>1,471</td>\n      <td>aaab3409-c6c3-5bc3-897c-5b4425492532</td>\n      <td>01/07/2022 18:13:41</td>\n    </tr>\n    <tr>\n      <th>3</th>\n      <td>18620 Hatteras St 257, Tarzana, CA 91356</td>\n      <td>$366,444</td>\n      <td>Tarzana</td>\n      <td>CA</td>\n      <td>91356</td>\n      <td>18620 Hatteras St 257</td>\n      <td>34.176364</td>\n      <td>-118.539319</td>\n      <td>This Condominium is located at 18620 Hatteras ...</td>\n      <td>2</td>\n      <td>2</td>\n      <td>910</td>\n      <td>3f17b279-2a0f-5c56-9bb7-7c998f535953</td>\n      <td>01/07/2022 18:13:41</td>\n    </tr>\n    <tr>\n      <th>4</th>\n      <td>2075 Mendocino St, Seaside, CA 93955</td>\n      <td>$896,416</td>\n      <td>Seaside</td>\n      <td>CA</td>\n      <td>93955</td>\n      <td>2075 Mendocino St</td>\n      <td>36.620651</td>\n      <td>-121.829274</td>\n      <td>This Single Family Residence is located at 207...</td>\n      <td>3</td>\n      <td>2</td>\n      <td>1,333</td>\n      <td>01a2f60e-496f-5886-a59d-103097ebb544</td>\n      <td>01/07/2022 18:13:42</td>\n    </tr>\n  </tbody>\n</table>\n</div>"
          },
          "metadata": {}
        }
      ],
      "execution_count": 4
    },
    {
      "cell_type": "code",
      "source": "df1.info()",
      "metadata": {
        "trusted": true
      },
      "outputs": [
        {
          "name": "stdout",
          "text": "<class 'pandas.core.frame.DataFrame'>\nInt64Index: 172 entries, 0 to 185\nData columns (total 14 columns):\n #   Column            Non-Null Count  Dtype  \n---  ------            --------------  -----  \n 0   name              172 non-null    object \n 1   price             172 non-null    object \n 2   locality          172 non-null    object \n 3   region            172 non-null    object \n 4   postal_code       172 non-null    int64  \n 5   address           172 non-null    object \n 6   latitude          172 non-null    float64\n 7   longitude         172 non-null    float64\n 8   description       172 non-null    object \n 9   bedrooms          172 non-null    object \n 10  bathrooms         172 non-null    int64  \n 11  floor_size_sq_ft  172 non-null    object \n 12  uniq_id           172 non-null    object \n 13  scraped_at        172 non-null    object \ndtypes: float64(2), int64(2), object(10)\nmemory usage: 13.4+ KB\n",
          "output_type": "stream"
        }
      ],
      "execution_count": 5
    },
    {
      "cell_type": "code",
      "source": "# df1[\"price\"]=df1[\"price\"].str.replace(\",\", \"\").str.replace(\"$\",\"\")\n# df1[\"price\"] = df1[\"price\"].astype(float)\n# df1['price'] = pd.to_numeric(df1['price'], errors='coerce')\n# df1[\"bedrooms\"] = df1[\"bedrooms\"].astype(int)\n# df1['bedrooms'] = df1['bedrooms'].str.extract('(\\d+)').astype(float).fillna(0).astype(int)\ndf1[\"floor_size_sq_ft\"]= df1[\"floor_size_sq_ft\"].str.replace(\",\",\"\")\ndf1[\"floor_size_sq_ft\"] = df1[\"floor_size_sq_ft\"].astype(float)\ndf1.info()\ndf1.head()",
      "metadata": {
        "trusted": true
      },
      "outputs": [
        {
          "name": "stdout",
          "text": "<class 'pandas.core.frame.DataFrame'>\nInt64Index: 172 entries, 0 to 185\nData columns (total 14 columns):\n #   Column            Non-Null Count  Dtype  \n---  ------            --------------  -----  \n 0   name              172 non-null    object \n 1   price             164 non-null    float64\n 2   locality          172 non-null    object \n 3   region            172 non-null    object \n 4   postal_code       172 non-null    int64  \n 5   address           172 non-null    object \n 6   latitude          172 non-null    float64\n 7   longitude         172 non-null    float64\n 8   description       172 non-null    object \n 9   bedrooms          172 non-null    int32  \n 10  bathrooms         172 non-null    int64  \n 11  floor_size_sq_ft  172 non-null    float64\n 12  uniq_id           172 non-null    object \n 13  scraped_at        172 non-null    object \ndtypes: float64(4), int32(1), int64(2), object(7)\nmemory usage: 14.8+ KB\n",
          "output_type": "stream"
        },
        {
          "execution_count": 21,
          "output_type": "execute_result",
          "data": {
            "text/plain": "                                        name     price   locality region  \\\n0       10125 Baffin Dr, San Diego, CA 92126  816480.0  San Diego     CA   \n1  78345 Terra Cotta Ct, La Quinta, CA 92253  416694.0  La Quinta     CA   \n2        469 Sandpiper St, Banning, CA 92220  365040.0    Banning     CA   \n3   18620 Hatteras St 257, Tarzana, CA 91356  366444.0    Tarzana     CA   \n4       2075 Mendocino St, Seaside, CA 93955  896416.0    Seaside     CA   \n\n   postal_code                address   latitude   longitude  \\\n0        92126        10125 Baffin Dr  32.900981 -117.153876   \n1        92253   78345 Terra Cotta Ct  33.727888 -116.297511   \n2        92220       469 Sandpiper St  33.923569 -116.935236   \n3        91356  18620 Hatteras St 257  34.176364 -118.539319   \n4        93955      2075 Mendocino St  36.620651 -121.829274   \n\n                                         description  bedrooms  bathrooms  \\\n0  This Single Family Residence is located at 101...         3          2   \n1  This Condominium is located at 78345 Terra Cot...         2          2   \n2  This Single Family Residence is located at 469...         2          2   \n3  This Condominium is located at 18620 Hatteras ...         2          2   \n4  This Single Family Residence is located at 207...         3          2   \n\n   floor_size_sq_ft                               uniq_id           scraped_at  \n0            1134.0  8b174963-ff1e-5783-bd6a-fdfa28999104  01/07/2022 18:13:41  \n1             912.0  9add4ef2-73df-5085-972a-70c81dd5b0ac  01/07/2022 18:13:41  \n2            1471.0  aaab3409-c6c3-5bc3-897c-5b4425492532  01/07/2022 18:13:41  \n3             910.0  3f17b279-2a0f-5c56-9bb7-7c998f535953  01/07/2022 18:13:41  \n4            1333.0  01a2f60e-496f-5886-a59d-103097ebb544  01/07/2022 18:13:42  ",
            "text/html": "<div>\n<style scoped>\n    .dataframe tbody tr th:only-of-type {\n        vertical-align: middle;\n    }\n\n    .dataframe tbody tr th {\n        vertical-align: top;\n    }\n\n    .dataframe thead th {\n        text-align: right;\n    }\n</style>\n<table border=\"1\" class=\"dataframe\">\n  <thead>\n    <tr style=\"text-align: right;\">\n      <th></th>\n      <th>name</th>\n      <th>price</th>\n      <th>locality</th>\n      <th>region</th>\n      <th>postal_code</th>\n      <th>address</th>\n      <th>latitude</th>\n      <th>longitude</th>\n      <th>description</th>\n      <th>bedrooms</th>\n      <th>bathrooms</th>\n      <th>floor_size_sq_ft</th>\n      <th>uniq_id</th>\n      <th>scraped_at</th>\n    </tr>\n  </thead>\n  <tbody>\n    <tr>\n      <th>0</th>\n      <td>10125 Baffin Dr, San Diego, CA 92126</td>\n      <td>816480.0</td>\n      <td>San Diego</td>\n      <td>CA</td>\n      <td>92126</td>\n      <td>10125 Baffin Dr</td>\n      <td>32.900981</td>\n      <td>-117.153876</td>\n      <td>This Single Family Residence is located at 101...</td>\n      <td>3</td>\n      <td>2</td>\n      <td>1134.0</td>\n      <td>8b174963-ff1e-5783-bd6a-fdfa28999104</td>\n      <td>01/07/2022 18:13:41</td>\n    </tr>\n    <tr>\n      <th>1</th>\n      <td>78345 Terra Cotta Ct, La Quinta, CA 92253</td>\n      <td>416694.0</td>\n      <td>La Quinta</td>\n      <td>CA</td>\n      <td>92253</td>\n      <td>78345 Terra Cotta Ct</td>\n      <td>33.727888</td>\n      <td>-116.297511</td>\n      <td>This Condominium is located at 78345 Terra Cot...</td>\n      <td>2</td>\n      <td>2</td>\n      <td>912.0</td>\n      <td>9add4ef2-73df-5085-972a-70c81dd5b0ac</td>\n      <td>01/07/2022 18:13:41</td>\n    </tr>\n    <tr>\n      <th>2</th>\n      <td>469 Sandpiper St, Banning, CA 92220</td>\n      <td>365040.0</td>\n      <td>Banning</td>\n      <td>CA</td>\n      <td>92220</td>\n      <td>469 Sandpiper St</td>\n      <td>33.923569</td>\n      <td>-116.935236</td>\n      <td>This Single Family Residence is located at 469...</td>\n      <td>2</td>\n      <td>2</td>\n      <td>1471.0</td>\n      <td>aaab3409-c6c3-5bc3-897c-5b4425492532</td>\n      <td>01/07/2022 18:13:41</td>\n    </tr>\n    <tr>\n      <th>3</th>\n      <td>18620 Hatteras St 257, Tarzana, CA 91356</td>\n      <td>366444.0</td>\n      <td>Tarzana</td>\n      <td>CA</td>\n      <td>91356</td>\n      <td>18620 Hatteras St 257</td>\n      <td>34.176364</td>\n      <td>-118.539319</td>\n      <td>This Condominium is located at 18620 Hatteras ...</td>\n      <td>2</td>\n      <td>2</td>\n      <td>910.0</td>\n      <td>3f17b279-2a0f-5c56-9bb7-7c998f535953</td>\n      <td>01/07/2022 18:13:41</td>\n    </tr>\n    <tr>\n      <th>4</th>\n      <td>2075 Mendocino St, Seaside, CA 93955</td>\n      <td>896416.0</td>\n      <td>Seaside</td>\n      <td>CA</td>\n      <td>93955</td>\n      <td>2075 Mendocino St</td>\n      <td>36.620651</td>\n      <td>-121.829274</td>\n      <td>This Single Family Residence is located at 207...</td>\n      <td>3</td>\n      <td>2</td>\n      <td>1333.0</td>\n      <td>01a2f60e-496f-5886-a59d-103097ebb544</td>\n      <td>01/07/2022 18:13:42</td>\n    </tr>\n  </tbody>\n</table>\n</div>"
          },
          "metadata": {}
        }
      ],
      "execution_count": 21
    },
    {
      "cell_type": "code",
      "source": "# save csv\ndf1.to_csv(\"data/housing_dataset_clean.csv\", index=False)",
      "metadata": {
        "trusted": true
      },
      "outputs": [],
      "execution_count": 25
    },
    {
      "cell_type": "code",
      "source": "",
      "metadata": {
        "trusted": true
      },
      "outputs": [],
      "execution_count": null
    }
  ]
}