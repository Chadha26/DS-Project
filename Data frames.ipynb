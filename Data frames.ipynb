{
  "metadata": {
    "kernelspec": {
      "name": "python",
      "display_name": "Python (Pyodide)",
      "language": "python"
    },
    "language_info": {
      "codemirror_mode": {
        "name": "python",
        "version": 3
      },
      "file_extension": ".py",
      "mimetype": "text/x-python",
      "name": "python",
      "nbconvert_exporter": "python",
      "pygments_lexer": "ipython3",
      "version": "3.8"
    }
  },
  "nbformat_minor": 4,
  "nbformat": 4,
  "cells": [
    {
      "cell_type": "code",
      "source": "import pickle\nwith open('dict_of_lists.pkl', 'rb') as f:\n    dict_of_lists = pickle.load(f)\n\nprint(\"Dictionary loaded from dict_of_lists.pkl\")\nprint(dict_of_lists)\n",
      "metadata": {
        "trusted": true,
        "tags": [],
        "editable": true,
        "slideshow": {
          "slide_type": ""
        }
      },
      "outputs": [
        {
          "name": "stdout",
          "text": "Dictionary loaded from dict_of_lists.pkl\n{'a': [1, 10, 100, 50], 'b': [2, 20, 200, 100], 'c': [3, 30, 300, 150], 'd': [4, 40, 400, 200], 'k': [0.25, 0.25, 0.25, 0.25]}\n",
          "output_type": "stream"
        }
      ],
      "execution_count": 2
    },
    {
      "cell_type": "code",
      "source": "import pandas as pd\ndf_x = pd.DataFrame(dict_of_lists)\nprint(df_x)\nprint(\"df_x:type\", type(df_x))\nprint(\"df_x:length\", len(df_x))",
      "metadata": {
        "trusted": true
      },
      "outputs": [
        {
          "name": "stdout",
          "text": "     a    b    c    d     k\n0    1    2    3    4  0.25\n1   10   20   30   40  0.25\n2  100  200  300  400  0.25\n3   50  100  150  200  0.25\ndf_x:type <class 'pandas.core.frame.DataFrame'>\ndf_x:length 4\n",
          "output_type": "stream"
        }
      ],
      "execution_count": 7
    },
    {
      "cell_type": "code",
      "source": "",
      "metadata": {
        "trusted": true
      },
      "outputs": [],
      "execution_count": null
    }
  ]
}